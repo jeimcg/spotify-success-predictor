{
 "cells": [
  {
   "cell_type": "code",
   "execution_count": null,
   "id": "2ca78521-1602-4e80-8399-2941bac0a202",
   "metadata": {},
   "outputs": [],
   "source": []
  }
 ],
 "metadata": {
  "kernelspec": {
   "display_name": "Python (Spotify Predictor)",
   "language": "python",
   "name": "spotify-predictor"
  },
  "language_info": {
   "codemirror_mode": {
    "name": "ipython",
    "version": 3
   },
   "file_extension": ".py",
   "mimetype": "text/x-python",
   "name": "python",
   "nbconvert_exporter": "python",
   "pygments_lexer": "ipython3",
   "version": "3.12.2"
  }
 },
 "nbformat": 4,
 "nbformat_minor": 5
}
