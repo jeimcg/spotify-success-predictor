{
 "cells": [
  {
   "cell_type": "code",
   "execution_count": 1,
   "id": "1173e366-01cc-40d8-a03d-fbbc6fd4f972",
   "metadata": {},
   "outputs": [],
   "source": [
    "import spotipy\n",
    "from spotipy.oauth2 import SpotifyClientCredentials"
   ]
  },
  {
   "cell_type": "code",
   "execution_count": 2,
   "id": "72991c23-45da-4d0d-8adb-243d75fae4fe",
   "metadata": {
    "editable": true,
    "slideshow": {
     "slide_type": ""
    },
    "tags": []
   },
   "outputs": [],
   "source": [
    "class SpotifyAPI:\n",
    "    def __init__(self, client_id, client_secret):\n",
    "        \"\"\"\n",
    "        initializing the spotify api client\n",
    "        \"\"\"\n",
    "        self.auth_manager = SpotifyClient(client_id=client_id, client_secret=client_secret, redirect_uri=redirect_uri)\n",
    "        scope=\"playlist-read-private playlist-read-collaborative\"\n",
    "        self.sp = spotipy.Spotipy(auth_manager=self.auth_manager)"
   ]
  },
  {
   "cell_type": "code",
   "execution_count": 3,
   "id": "23a3b279-a83f-4919-86a3-38093a722da1",
   "metadata": {},
   "outputs": [],
   "source": [
    "    def get_playlist_tracks(self, playlist_id):\n",
    "        \"\"\"\n",
    "        retrieve tracks in a playlist\n",
    "        \"\"\"\n",
    "        results = self.sp.playlist_tracks(playlist_id)\n",
    "        tracks = results[\"items\"]\n",
    "        # fetch additional tracks if playlist has more\n",
    "        while results[\"next\"]:\n",
    "            results = self.sp.next(results)\n",
    "            tracks.extend(results[\"items\"])\n",
    "        return tracks"
   ]
  },
  {
   "cell_type": "code",
   "execution_count": 4,
   "id": "456902f6-9bb3-4151-b727-d367a7ebc06a",
   "metadata": {},
   "outputs": [],
   "source": [
    "    def get_track(self, track_id):\n",
    "        \"\"\"\n",
    "        retrieve track details by track id\n",
    "        \"\"\"\n",
    "        return self.sp.track(track_id)"
   ]
  },
  {
   "cell_type": "code",
   "execution_count": 5,
   "id": "7e196e41-40d1-4d68-918b-af124bca19b5",
   "metadata": {},
   "outputs": [],
   "source": [
    "def get_artist(self, artist_id):\n",
    "    \"\"\"\n",
    "    retrieve artist details by artist id\n",
    "    \"\"\"\n",
    "    return self.sp.artist(artist_id)"
   ]
  },
  {
   "cell_type": "code",
   "execution_count": 6,
   "id": "e38c582c-ccb1-45e0-ac66-5dd2d51fae26",
   "metadata": {
    "editable": true,
    "slideshow": {
     "slide_type": ""
    },
    "tags": []
   },
   "outputs": [
    {
     "name": "stdout",
     "output_type": "stream",
     "text": [
      "['__class__', '__delattr__', '__dict__', '__dir__', '__doc__', '__eq__', '__format__', '__ge__', '__getattribute__', '__getstate__', '__gt__', '__hash__', '__init__', '__init_subclass__', '__le__', '__lt__', '__module__', '__ne__', '__new__', '__reduce__', '__reduce_ex__', '__repr__', '__setattr__', '__sizeof__', '__str__', '__subclasshook__', '__weakref__']\n"
     ]
    }
   ],
   "source": [
    "print(dir(SpotifyAPI))"
   ]
  }
 ],
 "metadata": {
  "kernelspec": {
   "display_name": "Python (Spotify Predictor)",
   "language": "python",
   "name": "spotify-predictor"
  },
  "language_info": {
   "codemirror_mode": {
    "name": "ipython",
    "version": 3
   },
   "file_extension": ".py",
   "mimetype": "text/x-python",
   "name": "python",
   "nbconvert_exporter": "python",
   "pygments_lexer": "ipython3",
   "version": "3.12.2"
  }
 },
 "nbformat": 4,
 "nbformat_minor": 5
}
