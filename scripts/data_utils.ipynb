{
 "cells": [
  {
   "cell_type": "code",
   "execution_count": 1,
   "id": "ee1c4923-74c2-4fbb-b236-0a26ec2e4c00",
   "metadata": {},
   "outputs": [],
   "source": [
    "import json"
   ]
  },
  {
   "cell_type": "code",
   "execution_count": 3,
   "id": "2b97f19c-a9c9-48f9-afe5-49e16d968f6c",
   "metadata": {},
   "outputs": [],
   "source": [
    "def save_json(data, filepath):\n",
    "    \"\"\"\n",
    "    save data to a json file\n",
    "    \"\"\"\n",
    "    with open(filepath, \"w\") as f:\n",
    "        json.dump(data, f, indent=4)"
   ]
  },
  {
   "cell_type": "code",
   "execution_count": 5,
   "id": "4d728313-8278-4c30-8ffc-31c195455892",
   "metadata": {
    "editable": true,
    "slideshow": {
     "slide_type": ""
    },
    "tags": []
   },
   "outputs": [],
   "source": [
    "def load_json(data, filepath):\n",
    "    \"\"\"\n",
    "    save data to a json file\n",
    "    \"\"\"\n",
    "    with open(filepath, \"r\") as f:\n",
    "        return json.load(f)"
   ]
  }
 ],
 "metadata": {
  "kernelspec": {
   "display_name": "Python (Spotify Predictor)",
   "language": "python",
   "name": "spotify-predictor"
  },
  "language_info": {
   "codemirror_mode": {
    "name": "ipython",
    "version": 3
   },
   "file_extension": ".py",
   "mimetype": "text/x-python",
   "name": "python",
   "nbconvert_exporter": "python",
   "pygments_lexer": "ipython3",
   "version": "3.12.2"
  }
 },
 "nbformat": 4,
 "nbformat_minor": 5
}
