{
 "cells": [
  {
   "cell_type": "code",
   "execution_count": 3,
   "id": "b614e4fa-3093-4cae-908a-fdefe8235f6e",
   "metadata": {},
   "outputs": [],
   "source": [
    "import spotipy\n",
    "from spotipy.oauth2 import SpotifyClientCredentials"
   ]
  },
  {
   "cell_type": "code",
   "execution_count": null,
   "id": "1c207dff-abcb-4ac5-8025-857228795620",
   "metadata": {},
   "outputs": [],
   "source": [
    "client_id = \"YOUR_CLIENT_ID\"\n",
    "client_secret = \"YOUR_CLIENT_SECRET\"\n",
    "auth_manager = SpotifyClientCredentials(client_id=client_id, client_secret=client_secret)\n",
    "\n",
    "sp = spotipy.Spotify(auth_manager=auth_manager)"
   ]
  },
  {
   "cell_type": "code",
   "execution_count": null,
   "id": "d322fd0f-d9bd-402f-967b-483ba0a4181f",
   "metadata": {},
   "outputs": [],
   "source": [
    "track_id = \n",
    "track_info =\n",
    "print(track_info)"
   ]
  }
 ],
 "metadata": {
  "kernelspec": {
   "display_name": "Python (Spotify Predictor)",
   "language": "python",
   "name": "spotify-predictor"
  },
  "language_info": {
   "codemirror_mode": {
    "name": "ipython",
    "version": 3
   },
   "file_extension": ".py",
   "mimetype": "text/x-python",
   "name": "python",
   "nbconvert_exporter": "python",
   "pygments_lexer": "ipython3",
   "version": "3.12.2"
  }
 },
 "nbformat": 4,
 "nbformat_minor": 5
}
