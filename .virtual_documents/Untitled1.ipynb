import spotipy
from spotipy.oauth2 import SpotifyClientCredentials


client_id = "YOUR_CLIENT_ID"
client_secret = "YOUR_CLIENT_SECRET"
auth_manager = SpotifyClientCredentials(client_id=client_id, client_secret=client_secret)

sp = spotipy.Spotify(auth_manager=auth_manager)


track_id = 
track_info =
print(track_info)
